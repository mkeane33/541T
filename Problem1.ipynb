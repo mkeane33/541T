{
 "cells": [
  {
   "cell_type": "code",
   "execution_count": 147,
   "metadata": {},
   "outputs": [
    {
     "name": "stdout",
     "output_type": "stream",
     "text": [
      "      Cement (component 1)(kg in a m^3 mixture)  \\\n",
      "0                                         540.0   \n",
      "1                                         540.0   \n",
      "2                                         332.5   \n",
      "3                                         332.5   \n",
      "4                                         198.6   \n",
      "...                                         ...   \n",
      "1025                                      276.4   \n",
      "1026                                      322.2   \n",
      "1027                                      148.5   \n",
      "1028                                      159.1   \n",
      "1029                                      260.9   \n",
      "\n",
      "      Blast Furnace Slag (component 2)(kg in a m^3 mixture)  \\\n",
      "0                                                   0.0       \n",
      "1                                                   0.0       \n",
      "2                                                 142.5       \n",
      "3                                                 142.5       \n",
      "4                                                 132.4       \n",
      "...                                                 ...       \n",
      "1025                                              116.0       \n",
      "1026                                                0.0       \n",
      "1027                                              139.4       \n",
      "1028                                              186.7       \n",
      "1029                                              100.5       \n",
      "\n",
      "      Fly Ash (component 3)(kg in a m^3 mixture)  \\\n",
      "0                                            0.0   \n",
      "1                                            0.0   \n",
      "2                                            0.0   \n",
      "3                                            0.0   \n",
      "4                                            0.0   \n",
      "...                                          ...   \n",
      "1025                                        90.3   \n",
      "1026                                       115.6   \n",
      "1027                                       108.6   \n",
      "1028                                         0.0   \n",
      "1029                                        78.3   \n",
      "\n",
      "      Water  (component 4)(kg in a m^3 mixture)  \\\n",
      "0                                         162.0   \n",
      "1                                         162.0   \n",
      "2                                         228.0   \n",
      "3                                         228.0   \n",
      "4                                         192.0   \n",
      "...                                         ...   \n",
      "1025                                      179.6   \n",
      "1026                                      196.0   \n",
      "1027                                      192.7   \n",
      "1028                                      175.6   \n",
      "1029                                      200.6   \n",
      "\n",
      "      Superplasticizer (component 5)(kg in a m^3 mixture)  \\\n",
      "0                                                   2.5     \n",
      "1                                                   2.5     \n",
      "2                                                   0.0     \n",
      "3                                                   0.0     \n",
      "4                                                   0.0     \n",
      "...                                                 ...     \n",
      "1025                                                8.9     \n",
      "1026                                               10.4     \n",
      "1027                                                6.1     \n",
      "1028                                               11.3     \n",
      "1029                                                8.6     \n",
      "\n",
      "      Coarse Aggregate  (component 6)(kg in a m^3 mixture)  \\\n",
      "0                                                1040.0      \n",
      "1                                                1055.0      \n",
      "2                                                 932.0      \n",
      "3                                                 932.0      \n",
      "4                                                 978.4      \n",
      "...                                                 ...      \n",
      "1025                                              870.1      \n",
      "1026                                              817.9      \n",
      "1027                                              892.4      \n",
      "1028                                              989.6      \n",
      "1029                                              864.5      \n",
      "\n",
      "      Fine Aggregate (component 7)(kg in a m^3 mixture)  Age (day)  \n",
      "0                                                 676.0         28  \n",
      "1                                                 676.0         28  \n",
      "2                                                 594.0        270  \n",
      "3                                                 594.0        365  \n",
      "4                                                 825.5        360  \n",
      "...                                                 ...        ...  \n",
      "1025                                              768.3         28  \n",
      "1026                                              813.4         28  \n",
      "1027                                              780.0         28  \n",
      "1028                                              788.9         28  \n",
      "1029                                              761.5         28  \n",
      "\n",
      "[1030 rows x 8 columns]\n"
     ]
    }
   ],
   "source": [
    "import numpy as np\n",
    "from matplotlib import pyplot as plt\n",
    "import pandas as pd\n",
    "from sklearn.preprocessing import StandardScaler\n",
    "%matplotlib inline\n",
    "data = pd.read_excel(\"Concrete_Data.xls\")\n",
    "X=data.loc[:, 'Cement (component 1)(kg in a m^3 mixture)':'Age (day)'] \n",
    "y = data.iloc[:,-1:]\n",
    "print(X)"
   ]
  },
  {
   "cell_type": "code",
   "execution_count": 148,
   "metadata": {},
   "outputs": [],
   "source": [
    "#using this to make the gradient descent function to converge faster\n",
    "Scalar = StandardScaler()\n",
    "X = Scalar.fit_transform(X)"
   ]
  },
  {
   "cell_type": "code",
   "execution_count": 149,
   "metadata": {},
   "outputs": [
    {
     "name": "stdout",
     "output_type": "stream",
     "text": [
      "[[ 2.47791782 -0.85688631 -0.84713204 ...  0.86316012 -1.21765845\n",
      "  -0.27973311]\n",
      " [ 2.47791782 -0.85688631 -0.84713204 ...  1.05617041 -1.21765845\n",
      "  -0.27973311]\n",
      " [ 0.49144303  0.79553263 -0.84713204 ... -0.52651395 -2.24091255\n",
      "   3.55306569]\n",
      " ...\n",
      " [-1.2700575   0.75958527  0.85066095 ... -1.03606111  0.08012724\n",
      "  -0.27973311]\n",
      " [-1.16857975  1.3080724  -0.84713204 ...  0.21464556  0.19118775\n",
      "  -0.27973311]\n",
      " [-0.19401043  0.30850389  0.37696733 ... -1.39506025 -0.15072887\n",
      "  -0.27973311]]\n"
     ]
    }
   ],
   "source": [
    "print(X)"
   ]
  },
  {
   "cell_type": "code",
   "execution_count": 150,
   "metadata": {},
   "outputs": [],
   "source": [
    "\n",
    "def obj_function(X, Y, B):\n",
    "    #MSE function, not LSE. Measures the same thing\n",
    "    H = X.dot(B)\n",
    "    H=(H[:, -1:])\n",
    "    #hypothesis - real\n",
    "    n = H-Y\n",
    "    v= len(Y)\n",
    "    J = np.sum((n) ** 2)/(2 * v)\n",
    "    return J\n",
    "\n",
    "\n",
    "\n"
   ]
  },
  {
   "cell_type": "code",
   "execution_count": 151,
   "metadata": {},
   "outputs": [],
   "source": [
    "def gradient_descent(X, Y, B, alpha, iterations):\n",
    "    #want to initialize the cost history and get the total length of the training data\n",
    "    v = len(Y)\n",
    "    obj_history = [0] * iterations\n",
    "    for iteration in range(iterations):\n",
    "        # Hypothesis Values\n",
    "        h = X.dot(B)\n",
    "        #special case\n",
    "        if iteration<1:\n",
    "            loss = h-Y.T\n",
    "        else:\n",
    "            h = h[:, -1:]\n",
    "            loss =h-Y\n",
    "        #special case \n",
    "        if iteration <1:\n",
    "            gradient = X.T.dot(loss.T) / v\n",
    "        else: \n",
    "            gradient = X.T.dot(loss) / v\n",
    "        # Changing Values of B using Gradient\n",
    "        B = B - alpha * gradient\n",
    "        # New Cost Value\n",
    "        cost = obj_function(X, Y, B)\n",
    "        #print(cost)\n",
    "        obj_history[iteration] = cost\n",
    "    return B, obj_history"
   ]
  },
  {
   "cell_type": "code",
   "execution_count": 152,
   "metadata": {},
   "outputs": [],
   "source": [
    "y_train = y[:900]\n",
    "X_train = X[:m,:8]\n",
    "#adds a one to the training batch, this represents the B_0 \n",
    "X_train = np.c_[np.ones(len(X_train),dtype='int64'),X_train]\n",
    "y_test = y[900:]\n",
    "X_test = X[900:,:8]\n",
    "#adds a one to the training batch, this represents the B_0 \n",
    "X_test = np.c_[np.ones(len(X_test),dtype='int64'),X_test]\n",
    "\n"
   ]
  },
  {
   "cell_type": "code",
   "execution_count": 153,
   "metadata": {},
   "outputs": [
    {
     "name": "stdout",
     "output_type": "stream",
     "text": [
      "8000 8000\n"
     ]
    },
    {
     "data": {
      "image/png": "[encoded data removed]",
      "text/plain": [
       "<Figure size 432x288 with 1 Axes>"
      ]
     },
     "metadata": {
      "needs_background": "light"
     },
     "output_type": "display_data"
    }
   ],
   "source": [
    "#setting all B's to zer0\n",
    "B = np.zeros(X_train.shape[1])\n",
    "newB, history = gradient_descent(X_train, y_train, B, .005, 8000)\n",
    "iter_size = range(8000)\n",
    "print(len(iter_size), len(history))\n",
    "plt.scatter(iter_size,history, s=256, alpha = .3)\n",
    "plt.plot((iter_size), history, linewidth = .2)\n",
    "plt.show()"
   ]
  },
  {
   "cell_type": "code",
   "execution_count": 154,
   "metadata": {},
   "outputs": [
    {
     "name": "stdout",
     "output_type": "stream",
     "text": [
      "[[ 3.58841268e+01  3.58841268e+01  3.58841268e+01  3.58841268e+01\n",
      "   3.58841268e+01  3.58841268e+01  3.58841268e+01  3.58841268e+01\n",
      "   3.58841268e+01]\n",
      " [ 1.02579497e+01  1.02579497e+01  1.02579497e+01  1.02579497e+01\n",
      "   1.02579497e+01  1.02579497e+01  1.02579497e+01  1.02579497e+01\n",
      "   1.02579497e+01]\n",
      " [ 6.90235606e+00  6.90235606e+00  6.90235606e+00  6.90235606e+00\n",
      "   6.90235606e+00  6.90235606e+00  6.90235606e+00  6.90235606e+00\n",
      "   6.90235606e+00]\n",
      " [ 4.40135690e+00  4.40135690e+00  4.40135690e+00  4.40135690e+00\n",
      "   4.40135690e+00  4.40135690e+00  4.40135690e+00  4.40135690e+00\n",
      "   4.40135690e+00]\n",
      " [-4.86101980e+00 -4.86101980e+00 -4.86101980e+00 -4.86101980e+00\n",
      "  -4.86101980e+00 -4.86101980e+00 -4.86101980e+00 -4.86101980e+00\n",
      "  -4.86101980e+00]\n",
      " [ 1.76919659e+00  1.76919659e+00  1.76919659e+00  1.76919659e+00\n",
      "   1.76919659e+00  1.76919659e+00  1.76919659e+00  1.76919659e+00\n",
      "   1.76919659e+00]\n",
      " [ 2.78790414e-02  2.78790414e-02  2.78790414e-02  2.78790414e-02\n",
      "   2.78790414e-02  2.78790414e-02  2.78790414e-02  2.78790414e-02\n",
      "   2.78790414e-02]\n",
      " [-4.41981619e-01 -4.41981619e-01 -4.41981619e-01 -4.41981619e-01\n",
      "  -4.41981619e-01 -4.41981619e-01 -4.41981619e-01 -4.41981619e-01\n",
      "  -4.41981619e-01]\n",
      " [ 7.23772212e+00  7.23772212e+00  7.23772212e+00  7.23772212e+00\n",
      "   7.23772212e+00  7.23772212e+00  7.23772212e+00  7.23772212e+00\n",
      "   7.23772212e+00]]\n"
     ]
    }
   ],
   "source": [
    "\n",
    "print(newB)\n",
    "listeofB = []\n",
    "for i in newB:\n",
    "    listeofB.append(i[0])\n",
    "\n",
    "\n",
    "testResults= X_test.dot(listeofB)\n"
   ]
  },
  {
   "cell_type": "code",
   "execution_count": null,
   "metadata": {},
   "outputs": [],
   "source": []
  },
  {
   "cell_type": "code",
   "execution_count": null,
   "metadata": {},
   "outputs": [],
   "source": [
    "\n",
    "\n"
   ]
  },
  {
   "cell_type": "code",
   "execution_count": 155,
   "metadata": {},
   "outputs": [
    {
     "name": "stdout",
     "output_type": "stream",
     "text": [
      "[[37.431652039999996], [29.86810032], [56.61287436], [12.45883132], [23.786922], [13.29309728], [39.417342919999996], [46.2293658], [44.51946532], [23.73865868], [26.14492992], [15.520104759999999], [43.5748832], [35.85964676], [41.05140104], [28.98557104], [46.24315532], [26.91714304], [10.53519328], [25.0969264], [29.06830816], [9.735401119999999], [33.79811352], [39.84481804], [26.96540636], [27.234302], [30.647208199999998], [33.05347944], [24.579819399999998], [21.91154728], [30.881630039999997], [15.340841], [24.3385028], [23.8903434], [22.93197176], [29.41304616], [28.629801423999997], [36.804918356], [18.287661424], [32.720462532], [31.420110796000003], [28.937997196], [40.925226931999994], [12.180972492], [25.559564796], [36.443632932], [32.96384756], [23.835874796], [26.233182848000002], [17.959470848000002], [38.630650804], [19.009542795999998], [33.71882378], [8.536402356], [13.461329424], [32.245413568000004], [23.524231644], [29.726068263999995], [49.77327244], [52.446370892], [40.934879596], [44.868340176000004], [13.202086448], [37.431652039999996], [29.870858223999996], [56.619079643999996], [12.459520796], [23.786922], [13.293786756], [39.421479776], [46.234192132], [44.523602176000004], [23.744174488], [26.147687824], [15.526310044], [43.57833058], [35.86585204399999], [41.053469468], [28.991086848000002], [46.247292176], [26.922658848], [10.535882756], [25.10382116], [29.073134491999998], [9.738159024], [33.798802996], [37.171030112], [33.762260768], [16.503987012], [19.98790924], [36.349864196], [38.215586251999994], [15.42357812], [33.419591196], [39.056057496], [27.681082448], [26.859916531999996], [45.304778483999996], [30.12320644], [15.569747031999999], [44.61185510399999], [53.524711356], [57.21823428799999], [65.909079268], [52.826961643999994], [33.399596392], [18.033934256], [37.363393916], [35.314271244], [42.6440906], [40.062002979999995], [43.798273423999994], [61.23581094], [40.8686899], [33.306517131999996], [52.426376088], [15.091250688], [38.461039708], [37.265488323999996], [35.225328839999996], [42.14008364399999], [31.875164956000003], [41.542307951999994], [39.455953576], [37.917043144], [44.284354003999994], [31.178794196000002], [23.696600644], [32.768036376000005], [32.401235144]]\n"
     ]
    },
    {
     "data": {
      "image/png": "[encoded data removed]",
      "text/plain": [
       "<Figure size 432x288 with 1 Axes>"
      ]
     },
     "metadata": {
      "needs_background": "light"
     },
     "output_type": "display_data"
    }
   ],
   "source": [
    "y_test_list= y_test.values.tolist()\n",
    "print(y_test_list)\n",
    "ErrorTestList= [0]*130\n",
    "for i in range(0,len(y_test_list)): \n",
    "    ErrorTestList[i] = y_test_list[i]-testResults[i]\n",
    "plt.scatter(y_test,ErrorTestList, s=256, alpha = .3)\n",
    "plt.show()\n",
    "\n"
   ]
  },
  {
   "cell_type": "code",
   "execution_count": null,
   "metadata": {},
   "outputs": [],
   "source": []
  },
  {
   "cell_type": "code",
   "execution_count": null,
   "metadata": {},
   "outputs": [],
   "source": []
  }
 ],
 "metadata": {
  "kernelspec": {
   "display_name": "Python 3",
   "language": "python",
   "name": "python3"
  },
  "language_info": {
   "codemirror_mode": {
    "name": "ipython",
    "version": 3
   },
   "file_extension": ".py",
   "mimetype": "text/x-python",
   "name": "python",
   "nbconvert_exporter": "python",
   "pygments_lexer": "ipython3",
   "version": "3.8.5"
  }
 },
 "nbformat": 4,
 "nbformat_minor": 4
}
